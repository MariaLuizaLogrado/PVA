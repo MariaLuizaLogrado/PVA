{
 "cells": [
  {
   "cell_type": "code",
   "execution_count": 3,
   "metadata": {},
   "outputs": [
    {
     "name": "stderr",
     "output_type": "stream",
     "text": [
      "/home/quinelato/.local/lib/python3.10/site-packages/matplotlib/projections/__init__.py:63: UserWarning: Unable to import Axes3D. This may be due to multiple versions of Matplotlib being installed (e.g. as a system package and as a pip package). As a result, the 3D projection is not available.\n",
      "  warnings.warn(\"Unable to import Axes3D. This may be due to multiple versions of \"\n"
     ]
    }
   ],
   "source": [
    "######################################################################################################\n",
    "## STEP 1: IMPORTANDO AS BIBLIOTECAS NECESSÁRIAS\n",
    "######################################################################################################\n",
    "import os\n",
    "import cv2\n",
    "import numpy as np\n",
    "import random\n",
    "import matplotlib.pyplot as plt\n",
    "from scipy.sparse.csgraph import connected_components\n"
   ]
  },
  {
   "cell_type": "code",
   "execution_count": 4,
   "metadata": {},
   "outputs": [],
   "source": [
    "######################################################################################################\n",
    "## STEP 2: USANDO HAAR CASCADE PARA DETECTAR CARACTERÍSTICAS FACIAIS\n",
    "######################################################################################################\n",
    "\n",
    "# Função que recebe uma imagem colorida como entrada e retorna a mesma imagem convertida para escala de cinza\n",
    "def preprocess_image(image):\n",
    "    gray = cv2.cvtColor(image, cv2.COLOR_BGR2GRAY) # Converter a imagem de um espaço de cores RGB para escala de cinza\n",
    "    return gray\n",
    "\n",
    "# Função que usará um modelo para detectar o rosto de uma pessoa\n",
    "def detect_faces(image, face_classifier):\n",
    "    faces = face_classifier.detectMultiScale(image, scaleFactor=1.1, minNeighbors=5, minSize=(40, 50))\n",
    "    return faces\n",
    "\n",
    "# Função que usará um modelo para detectar os olhos de uma pessoa\n",
    "def detect_eyes(image, eyes_classifier):\n",
    "    eyes = eyes_classifier.detectMultiScale(image, scaleFactor=1.1, minNeighbors=5, minSize=(40, 50))\n",
    "    return eyes\n",
    "\n",
    "# Função que usará um modelo para detectar o nariz de uma pessoa\n",
    "def detect_noses(image, nose_classifier):\n",
    "    noses = nose_classifier.detectMultiScale(image, scaleFactor=1.1, minNeighbors=5, minSize=(40, 50))\n",
    "    return noses\n",
    "\n",
    "# Função que usará um modelo para detectar a boca de uma pessoa\n",
    "def detect_mouths(image, mouth_classifier):\n",
    "    mouths = mouth_classifier.detectMultiScale(image, scaleFactor=1.1, minNeighbors=5, minSize=(40, 50))\n",
    "    return mouths\n",
    "\n",
    "# Função que irá nos retornar os contornos de uma imagem\n",
    "def apply_canny(image):\n",
    "    edges = cv2.Canny(image, 150, 200)\n",
    "    return edges\n",
    "\n",
    "# Função que plotará imagens\n",
    "def plots(figura, title=''):\n",
    "    plt.figure(figsize=(20,10))\n",
    "    plt.imshow(figura, cmap='gray')\n",
    "    plt.axis('off')\n",
    "    plt.title(title)\n",
    "    plt.show()\n",
    "\n",
    "# Função que aleatoriza \n",
    "def retirando_pixels(mEdges, thresh):\n",
    "    lCoord = [] # Lista para armazenar as coordenddas dos pixels de interesse\n",
    "\n",
    "    for i in range(mEdges.shape[0]):\n",
    "        for j in range(mEdges.shape[1]):\n",
    "            if mEdges[i][j] == 255: # Verificando se o ponto encontrado corresponde ao pixel 255\n",
    "                lCoord.append((i,j)) # Adicionando a coordenada desse pixel encontrado no lCoord\n",
    "    mainCoord = lCoord.copy() # Copiando a lista de coordenadas dos pontos (coordenadas dos pixels de interesse)\n",
    "    random.shuffle(lCoord) # Aleatorizando a ordem das coordenadas dos pontos\n",
    "\n",
    "    times = thresh # Definando um limiar para zerarmos os pixels\n",
    "\n",
    "    #for i,t in zip(lCoord, range(times)): # Zipamos a lista de coordenadas com o limiar para definirmos um 'critério de parada' no laço\n",
    "    #        mEdges[i[0]][i[1]] = 0 # Zerando os pixels 255\n",
    "\n",
    "    return mEdges, mainCoord\n",
    "\n",
    "# Função que fará o processamento de imagem e nos retornará os contornos das características\n",
    "def process_image(image_path, face_classifier, eyes_classifier, nose_classifier, mouth_classifier):\n",
    "    image = cv2.imread(image_path) # Lendo a imagem\n",
    "    processed_image = preprocess_image(image) # Pré-processando a imagem (convertendo para escala de cinza)\n",
    "    faces = detect_faces(processed_image, face_classifier) # Detectando o rosto na imagem\n",
    "\n",
    "    for (x, y, w, h) in faces:\n",
    "        face_roi = processed_image[y:y+h, x:x+w] # Recortando a região de interesse (Roi) do rosto\n",
    "        noses = detect_noses(face_roi, nose_classifier) # Detectando o nariz na região de interesse do rosto\n",
    "\n",
    "        for (nx, ny, nw, nh) in noses:\n",
    "            nose_roi = face_roi[ny:ny+nh, nx:nx+nw] # Recortando a região de interesse (Roi) do nariz\n",
    "            plots(nose_roi, title=\"ROI Nariz\") # Plotando a região de interesse do nariz\n",
    "            nariz_contornos = apply_canny(nose_roi) # Aplicando o detector de bordas de Canny na região de interesse do nariz\n",
    "            plots(nariz_contornos, title=\"Contornos com Canny\")\n",
    "            newNoseEdges, mainCoord = retirando_pixels(nariz_contornos, 100)\n",
    "\n",
    "    return nariz_contornos, mainCoord\n"
   ]
  },
  {
   "cell_type": "code",
   "execution_count": 5,
   "metadata": {},
   "outputs": [],
   "source": [
    "######################################################################################################\n",
    "## STEP 3: CRIANDO MATRIZ DE ADJACENCIAS COM AS LIGAÇÕES ENTRE OS PONTOS PARA MONTAR GRAFOS\n",
    "######################################################################################################\n",
    "\n",
    "# Função para processar a matriz e retornar as ligações entre os pontos\n",
    "def processar_matriz(matriz, limViz1, limViz2):\n",
    "    def coord_pts(matriz):\n",
    "        dAuxiliar = {}  # Um dicionário auxiliar para armazenar as coordenadas dos pontos\n",
    "        pto = 0  # Um contador para contabilizarmos os pontos\n",
    "        for i in range(matriz.shape[0]):\n",
    "            for j in range(matriz.shape[1]):\n",
    "                if matriz[i][j] == 255:  # Verificando se o ponto encontrado corresponde ao pixel 255\n",
    "                    dAuxiliar[(i, j)] = pto  # Adicionando esse pixel encontrado no dAuxiliar\n",
    "                    pto += 1\n",
    "        return dAuxiliar\n",
    "\n",
    "    def linha_coluna(ponto1, ponto2):\n",
    "        x1, y1 = ponto1\n",
    "        x2, y2 = ponto2\n",
    "        return x1 == x2 or y1 == y2\n",
    "\n",
    "    def diagonal(ponto1, ponto2):\n",
    "        x1, y1 = ponto1\n",
    "        x2, y2 = ponto2\n",
    "        return abs(x1 - x2) == abs(y1 - y2)\n",
    "\n",
    "    def distancia_absoluta(ponto1, ponto2):\n",
    "        distancia_x = abs(ponto1[0] - ponto2[0])\n",
    "        distancia_y = abs(ponto1[1] - ponto2[1])\n",
    "        return distancia_x + distancia_y\n",
    "\n",
    "    def vizinhanca(ponto1, ponto2, limite):\n",
    "        distancia = distancia_absoluta(ponto1, ponto2)\n",
    "        return distancia <= limite\n",
    "\n",
    "    def verificar_vizinhanca(pontos, limViz1, limViz2):\n",
    "        ligacoes = {}  # Dicionário para armazenar as ligações entre os pontos\n",
    "        for ponto1, id1 in pontos.items():\n",
    "            ligacoes[id1] = []  # Inicializa a lista de ligações para o ponto atual\n",
    "            for ponto2, id2 in pontos.items():\n",
    "                if ponto1 != ponto2:  # Evitar calcular a distância do ponto com ele mesmo\n",
    "                    if linha_coluna(ponto1, ponto2):  # Verificando se os pontos estão na mesma linha/coluna\n",
    "                        if vizinhanca(ponto1, ponto2, limViz1):  # Verificando se as distâncias estão dentro do limite imposto\n",
    "                            ligacoes[id1].append(id2)  # Adicionar a ligação entre os pontos ao dicionário de ligações\n",
    "\n",
    "        for ponto1, id1 in pontos.items():\n",
    "            for ponto2, id2 in pontos.items():\n",
    "                if ponto1 != ponto2:  # Evitar calcular a distância do ponto com ele mesmo\n",
    "                    if diagonal(ponto1, ponto2):  # Evitar calcular a distância do ponto com ele mesmo\n",
    "                        if vizinhanca(ponto1, ponto2, limViz2):  # Verificando se as distâncias estão dentro do limite imposto\n",
    "                            ligacoes[id1].append(id2)  # Adicionar a ligação entre os pontos ao dicionário de ligações\n",
    "        return ligacoes\n",
    "\n",
    "    pontos = coord_pts(matriz)\n",
    "    resultado = verificar_vizinhanca(pontos, limViz1, limViz2)\n",
    "    return resultado\n",
    "\n",
    "# Função para criar a matriz de adjacências\n",
    "def matriz_adjacencias(graph_dict):\n",
    "    n = max(graph_dict.keys()) + 1 # Encontra o maior número de nó no grafo e adiciona 1 a ele para ajustar a indexação que começa em 0 no python\n",
    "    M = np.zeros((n,n)) # Uma matriz de adjacência quadrada n = qtde pixels 255\n",
    "    \n",
    "    for node, neighbors in graph_dict.items(): #Itera sobre o dicionário onde cada chave representa um nó e o valor é uma lista de vizinhos desse nó.\n",
    "        for neighbor in neighbors: # Itera sobre a lista de vizinhos do nó atual.\n",
    "            M[node][neighbor] = 1 # Define a entrada correspondente na matriz de adjacência como 1 para indicar uma aresta entre o nó node e o vizinho neighbor.\n",
    "    \n",
    "    return M\n"
   ]
  },
  {
   "cell_type": "code",
   "execution_count": 6,
   "metadata": {},
   "outputs": [],
   "source": [
    "######################################################################################################\n",
    "## STEP 4: ENCONTRANDO OS PRINCIPAIS COMPONENTES CONECTADOS E OS FILTRANDO\n",
    "######################################################################################################\n",
    "\n",
    "# Função para encontrar as principais componentes conectados\n",
    "def main_connected_components(all_mAdjNose):\n",
    "\n",
    "    ## Encontrar os componentes conectados na matriz de adjacências\n",
    "    comp_conectadas, labels = connected_components(all_mAdjNose[0]) # Encontrar os componentes conectados na matriz de adjacências  (comp_conectadas = número de componentes conectados, labels = rótulos dos componentes conectados)\n",
    "\n",
    "    ## Criando um dicionário para armazenar os rótulos das componentes conectadas e seus respectivos índices\n",
    "    connectedComponentLabels = {} \n",
    "\n",
    "    for i in range(len(labels)): # Iterar sobre os labels e seus respectivos índices\n",
    "        if labels[i] not in connectedComponentLabels: # Verificar se o label atual já está no dicionário\n",
    "            connectedComponentLabels[labels[i]] = [i] # Se não estiver, adiciona o índice atual em uma lista\n",
    "        else:\n",
    "            connectedComponentLabels[labels[i]].append(i) # Se já estiver, adiciona o índice atual à lista de índices\n",
    "\n",
    "    print('Dicionário de labels:', connectedComponentLabels)\n",
    "\n",
    "    ## Dicionário auxiliar para armazenar o número de nó em cada conexo\n",
    "    componentNodeCount = {}\n",
    "\n",
    "    for i in connectedComponentLabels.keys(): # Iterar sobre as chaves do dicionário de labels\n",
    "        componentNodeCount[i] = len(connectedComponentLabels[i]) # Adicionar o número de conectividades em cada conexo ao dicionário auxiliar\n",
    "    print('Dicionário com a quantidade de nós:',componentNodeCount) \n",
    "\n",
    "    ## Encontrar o maior e o menor número de nós em um conexo\n",
    "    maxNodeComponent = max(componentNodeCount, key=componentNodeCount.get)\n",
    "    print('Maior nº de nós em um conexo:', componentNodeCount[maxNodeComponent])\n",
    "    minNodeComponent = min(componentNodeCount, key=componentNodeCount.get) \n",
    "    print('Menor nº de nós em um conexo:', componentNodeCount[minNodeComponent])\n",
    "\n",
    "    # Lista para armazenar as chaves (componentes conexas) que serão deletadas\n",
    "    componentsToRemove = []\n",
    "\n",
    "    for key in componentNodeCount.keys(): # Iterar sobre as chaves do dicionário que armazena o número de nós em cada componente\n",
    "        if componentNodeCount[key] < round(0.2 * componentNodeCount[maxNodeComponent]): # Verificar se o número de nós é menor que 20% do maior número de nós\n",
    "            componentsToRemove.append(key) # Adicionar a componente à lista de componentes que serão deletadas\n",
    "\n",
    "    ## Filtrar as componentes conectadas mantendo apenas as principais\n",
    "    for key in componentsToRemove: # Iterar sobre a lista de componentes que serão deletadas\n",
    "        del componentNodeCount[key] # Deletar a componente do dicionário componentNodeCount\n",
    "\n",
    "    listMainComponents = componentNodeCount.keys() # Lista para armazenar as componentes que serão mantidas\n",
    "    print('Lista das chaves que serão filtradas:', listMainComponents)\n",
    "\n",
    "    ## Dicionário para armazenar os principais componentes conectados e seus respectivos nós\n",
    "    dicMainComponents = {}\n",
    "\n",
    "    for key in listMainComponents: # Iterar sobre as chaves (componentes) que serão mantidas\n",
    "        dicMainComponents[key] = connectedComponentLabels[key] # Adicionar os nós dos componentes que serão mantidos ao dicionário dos principais componentes conectados\n",
    "\n",
    "    print('Dicionário com os labels filtrados:', dicMainComponents)\n",
    "    return dicMainComponents, connectedComponentLabels\n"
   ]
  },
  {
   "cell_type": "code",
   "execution_count": 7,
   "metadata": {},
   "outputs": [],
   "source": [
    "######################################################################################################\n",
    "## STEP 5: DESTACANDO OS PONTOS DAS COMPONENTES CONECTADAS\n",
    "######################################################################################################\n",
    "\n",
    "def highlight_components(mainCoord, dicMainComponents):\n",
    "    '''\n",
    "    Função para plotar os pontos das componentes conectadas\n",
    "\n",
    "    - mainCoord: lista de coordenadas dos pontos de interesse\n",
    "    - dicMainComponents: dicionário com os índices dos pontos filtrados por componente conectada\n",
    "    '''\n",
    "    colors = ['blue', 'red', 'green', 'yellow', 'black', 'orange']\n",
    "    plt.figure(figsize=(8, 6))\n",
    "    \n",
    "    for color,label in enumerate(dicMainComponents.keys()): # Iterar sobre as chaves do dicionário que contém os principais componentes conectados\n",
    "        for idx in dicMainComponents[label]: # Iterar sobre os nós dos componentes conectados\n",
    "            i, j = mainCoord[idx] # Obter as coordenadas dos pontos\n",
    "            # print(i, j, idx)\n",
    "            plt.scatter(j, i, color=colors[color%len(colors)])  # Plotar os pontos filtrados\n",
    "    \n",
    "    plt.title(\"Pontos das Componentes Conectadas\")\n",
    "    plt.xlabel(\"Coluna\")\n",
    "    plt.ylabel(\"Linha\")\n",
    "    plt.gca().invert_yaxis()  # Inverter o eixo y para corresponder à orientação das imagens OpenCV\n",
    "    plt.grid(True)\n",
    "    plt.show()\n",
    "\n",
    "def main():\n",
    "    directory = './image'\n",
    "    face_classifier = cv2.CascadeClassifier(\"./models/haarcascade_frontalface_default.xml\")\n",
    "    eyes_classifier = cv2.CascadeClassifier(\"./models/haarcascade_eye.xml\")\n",
    "    nose_classifier = cv2.CascadeClassifier(\"./models/haarcascade_mcs_nose.xml\")\n",
    "    mouth_classifier = cv2.CascadeClassifier(\"./models/haarcascade_mcs_mouth.xml\")\n",
    "    \n",
    "    all_mAdjNose = []\n",
    "\n",
    "    for filename in os.listdir(directory):\n",
    "        if filename.endswith(\".jpg\") or filename.endswith(\".ppm\"):\n",
    "            image_path = os.path.join(directory, filename)\n",
    "            mNoseEdges, mainCoord = process_image(image_path, face_classifier, eyes_classifier, nose_classifier, mouth_classifier)\n",
    "            dLigacoes = processar_matriz(mNoseEdges, limViz1 = 1, limViz2 = 2)\n",
    "            mAdjNose = matriz_adjacencias(dLigacoes)\n",
    "            all_mAdjNose.append(mAdjNose)\n",
    "\n",
    "    return all_mAdjNose, mainCoord, image_path\n"
   ]
  },
  {
   "cell_type": "code",
   "execution_count": 8,
   "metadata": {},
   "outputs": [
    {
     "data": {
      "image/png": "[encoded data removed]",
      "text/plain": [
       "<Figure size 1440x720 with 1 Axes>"
      ]
     },
     "metadata": {
      "needs_background": "light"
     },
     "output_type": "display_data"
    },
    {
     "data": {
      "image/png": "[encoded data removed]",
      "text/plain": [
       "<Figure size 1440x720 with 1 Axes>"
      ]
     },
     "metadata": {
      "needs_background": "light"
     },
     "output_type": "display_data"
    },
    {
     "name": "stdout",
     "output_type": "stream",
     "text": [
      "Dicionário de labels: {0: [0, 1, 2, 3, 4], 1: [5], 2: [6, 7, 8, 9], 3: [10, 11, 12, 13, 15, 16, 18, 20, 21, 23, 26], 4: [14, 17], 5: [19, 22, 25, 28, 30, 35, 38, 40, 43, 48, 52, 53, 58, 66, 80, 99, 114, 135, 136, 152, 153, 154, 155, 156, 157, 168, 169, 170], 6: [24, 27], 7: [29, 31, 32, 33], 8: [34, 36, 37, 39, 42, 46, 47, 51, 57, 61, 62, 63, 64, 65, 73, 74, 75, 76, 77, 78, 79, 92, 93, 94, 95, 96, 97, 98, 106, 107, 108, 109, 110, 111, 112, 113, 115, 116, 127, 128, 129, 130, 131, 132, 133, 134, 137, 138, 139, 148, 149, 150, 151, 158, 159, 160, 165, 166, 171, 172, 173, 180, 181, 183, 184, 185, 186, 187, 195, 196, 197, 198, 199, 200, 201, 208, 209, 210, 211, 212, 213, 214, 215, 216, 217, 218, 219, 220, 221, 222, 229, 230, 231, 232, 233, 235, 236, 237, 246, 247, 248, 249, 252, 253, 254, 262, 263, 264, 265, 266, 267, 271, 272, 273, 284, 285, 286, 287, 293, 294, 309, 330, 331, 348, 371, 372, 373, 392, 393, 418], 9: [41, 44, 45, 50, 56, 60, 72, 89, 90, 91, 102, 103, 104, 121, 122, 123, 124], 10: [49, 54, 55, 59, 71], 11: [67, 68, 69, 70, 81, 82, 83, 84, 85, 86, 87, 88, 100, 101, 117, 118, 119, 120, 140, 141, 142, 143, 144, 145, 161, 162, 163, 174, 175, 176], 12: [105, 125, 126, 146, 147, 164, 177, 178, 179], 13: [167, 182, 188, 189, 190, 202, 203, 223, 224], 14: [191, 192, 204, 205, 225, 226, 239, 240, 241, 256, 257, 276, 277, 297, 312, 333], 15: [193, 206, 227, 242, 243, 258, 259, 278, 279, 298, 313, 314, 315, 316, 334, 335, 353, 354, 355, 356], 16: [194, 207, 228, 244, 245, 260, 261, 280, 281, 282, 283, 299, 300, 301, 302, 303, 317, 318, 319, 320, 321, 337, 338, 339, 358, 359, 378, 379, 402, 403, 404, 424, 425, 426, 427, 443, 444, 445, 446, 462], 17: [234, 250, 268, 269, 288, 289, 290, 291, 304, 305, 306, 325, 326, 345, 346, 366, 367, 368, 369, 386, 387, 388, 412, 413, 414, 415, 432, 433, 434, 435, 436, 448, 449, 450, 451, 452, 465, 466], 18: [238, 255, 274, 295, 310], 19: [251, 270, 292, 307, 327], 20: [275, 296, 311, 332, 350, 351, 375, 395, 419, 438, 456, 457, 458, 471, 472, 473], 21: [308, 328, 329, 347, 370, 389, 390, 391, 416, 417, 437, 453, 467, 468], 22: [322, 341, 362, 382, 407], 23: [323, 324, 342, 343, 344, 363, 364, 365, 383, 384, 385, 408, 409, 410, 411, 428, 429, 430, 431, 447, 463], 24: [336, 357, 377, 398, 399, 400, 401, 423, 442, 461], 25: [340, 360, 361, 381, 406], 26: [349, 374, 394], 27: [352, 376, 397], 28: [380, 405], 29: [396, 420, 421, 422, 439, 440, 459], 30: [441, 460], 31: [454, 455, 469, 470], 32: [464]}\n",
      "Dicionário com a quantidade de nós: {0: 5, 1: 1, 2: 4, 3: 11, 4: 2, 5: 28, 6: 2, 7: 4, 8: 130, 9: 17, 10: 5, 11: 30, 12: 9, 13: 9, 14: 16, 15: 20, 16: 40, 17: 38, 18: 5, 19: 5, 20: 16, 21: 14, 22: 5, 23: 21, 24: 10, 25: 5, 26: 3, 27: 3, 28: 2, 29: 7, 30: 2, 31: 4, 32: 1}\n",
      "Maior nº de nós em um conexo: 130\n",
      "Menor nº de nós em um conexo: 1\n",
      "Lista das chaves que serão filtradas: dict_keys([5, 8, 11, 16, 17])\n",
      "Dicionário com os labels filtrados: {5: [19, 22, 25, 28, 30, 35, 38, 40, 43, 48, 52, 53, 58, 66, 80, 99, 114, 135, 136, 152, 153, 154, 155, 156, 157, 168, 169, 170], 8: [34, 36, 37, 39, 42, 46, 47, 51, 57, 61, 62, 63, 64, 65, 73, 74, 75, 76, 77, 78, 79, 92, 93, 94, 95, 96, 97, 98, 106, 107, 108, 109, 110, 111, 112, 113, 115, 116, 127, 128, 129, 130, 131, 132, 133, 134, 137, 138, 139, 148, 149, 150, 151, 158, 159, 160, 165, 166, 171, 172, 173, 180, 181, 183, 184, 185, 186, 187, 195, 196, 197, 198, 199, 200, 201, 208, 209, 210, 211, 212, 213, 214, 215, 216, 217, 218, 219, 220, 221, 222, 229, 230, 231, 232, 233, 235, 236, 237, 246, 247, 248, 249, 252, 253, 254, 262, 263, 264, 265, 266, 267, 271, 272, 273, 284, 285, 286, 287, 293, 294, 309, 330, 331, 348, 371, 372, 373, 392, 393, 418], 11: [67, 68, 69, 70, 81, 82, 83, 84, 85, 86, 87, 88, 100, 101, 117, 118, 119, 120, 140, 141, 142, 143, 144, 145, 161, 162, 163, 174, 175, 176], 16: [194, 207, 228, 244, 245, 260, 261, 280, 281, 282, 283, 299, 300, 301, 302, 303, 317, 318, 319, 320, 321, 337, 338, 339, 358, 359, 378, 379, 402, 403, 404, 424, 425, 426, 427, 443, 444, 445, 446, 462], 17: [234, 250, 268, 269, 288, 289, 290, 291, 304, 305, 306, 325, 326, 345, 346, 366, 367, 368, 369, 386, 387, 388, 412, 413, 414, 415, 432, 433, 434, 435, 436, 448, 449, 450, 451, 452, 465, 466]}\n"
     ]
    },
    {
     "data": {
      "image/png": "[encoded data removed]",
      "text/plain": [
       "<Figure size 576x432 with 1 Axes>"
      ]
     },
     "metadata": {
      "needs_background": "light"
     },
     "output_type": "display_data"
    }
   ],
   "source": [
    "\n",
    "if __name__ == \"__main__\": \n",
    "    all_mAdjNose, mainCoord, image_path = main()\n",
    "    dicMainComponents, connectedComponentLabels= main_connected_components(all_mAdjNose)\n",
    "    highlight_components(mainCoord, dicMainComponents)\n"
   ]
  },
  {
   "cell_type": "code",
   "execution_count": 9,
   "metadata": {},
   "outputs": [
    {
     "data": {
      "text/plain": [
       "array([[0, 1, 0, 0, 0, 0, 0, 0, 0, 0, 0],\n",
       "       [1, 0, 1, 0, 0, 0, 0, 0, 0, 0, 0],\n",
       "       [0, 1, 0, 1, 0, 0, 0, 0, 0, 0, 0],\n",
       "       [0, 0, 1, 0, 0, 1, 0, 0, 0, 0, 0],\n",
       "       [0, 0, 0, 0, 0, 1, 1, 0, 0, 0, 0],\n",
       "       [0, 0, 0, 1, 1, 0, 0, 0, 0, 0, 0],\n",
       "       [0, 0, 0, 0, 1, 0, 0, 1, 1, 0, 0],\n",
       "       [0, 0, 0, 0, 0, 0, 1, 0, 0, 1, 0],\n",
       "       [0, 0, 0, 0, 0, 0, 1, 0, 0, 0, 0],\n",
       "       [0, 0, 0, 0, 0, 0, 0, 1, 0, 0, 1],\n",
       "       [0, 0, 0, 0, 0, 0, 0, 0, 0, 1, 0]])"
      ]
     },
     "execution_count": 9,
     "metadata": {},
     "output_type": "execute_result"
    }
   ],
   "source": [
    "######################################################################################################\n",
    "## STEP 6: ENCONTRANDO A ÁRVORE GERADORA MÍNIMA DE UM COMPONENTE CONECTADO\n",
    "######################################################################################################\n",
    "\n",
    "from scipy.sparse import csr_matrix\n",
    "from scipy.sparse.csgraph import minimum_spanning_tree\n",
    "\n",
    "nodes = connectedComponentLabels[3]\n",
    "\n",
    "componente_3 = all_mAdjNose[0][np.ix_(nodes,nodes)]\n",
    "arvore_3 = minimum_spanning_tree(componente_3).toarray().astype(int)\n",
    "arvore_3 += arvore_3.T\n",
    "arvore_3"
   ]
  },
  {
   "cell_type": "code",
   "execution_count": 10,
   "metadata": {},
   "outputs": [],
   "source": [
    "class No():\n",
    "\n",
    "    def __init__(self, idx, filhos = []):\n",
    "        self.idx = idx\n",
    "        self.filhos = filhos\n",
    "\n"
   ]
  },
  {
   "cell_type": "code",
   "execution_count": 11,
   "metadata": {},
   "outputs": [
    {
     "data": {
      "text/plain": [
       "[10, 11, 12, 13, 15, 16, 18, 20, 21, 23, 26]"
      ]
     },
     "execution_count": 11,
     "metadata": {},
     "output_type": "execute_result"
    }
   ],
   "source": [
    "nodes"
   ]
  },
  {
   "cell_type": "code",
   "execution_count": 21,
   "metadata": {},
   "outputs": [],
   "source": [
    "def constroi_arvore():\n",
    "    abertos = []\n",
    "    n_nos = len(nodes)\n",
    "    if n_nos > 0:\n",
    "        raiz = No(0)\n",
    "        abertos.append(raiz)\n",
    "\n",
    "    proximo_no = 0\n",
    "    while proximo_no < len(abertos):\n",
    "        no = abertos[proximo_no]\n",
    "        proximo_no += 1\n",
    "        for j in range(n_nos):\n",
    "            if arvore_3[no.idx, j] == 1:\n",
    "                ja_visitou = False\n",
    "                for i in range(proximo_no):\n",
    "                    if abertos[i].idx == j:\n",
    "                        ja_visitou = True\n",
    "                        break\n",
    "                if not ja_visitou:\n",
    "                    filho = No(j, [])\n",
    "                    abertos.append(filho)\n",
    "                    no.filhos.append(filho)\n",
    "    return raiz          \n"
   ]
  },
  {
   "cell_type": "code",
   "execution_count": 22,
   "metadata": {},
   "outputs": [],
   "source": [
    "raiz = constroi_arvore()"
   ]
  },
  {
   "cell_type": "code",
   "execution_count": 23,
   "metadata": {},
   "outputs": [
    {
     "data": {
      "text/plain": [
       "[<__main__.No at 0x7ee13e53b5e0>,\n",
       " <__main__.No at 0x7ee15d5072e0>,\n",
       " <__main__.No at 0x7ee13e53a980>,\n",
       " <__main__.No at 0x7ee13e53a8c0>]"
      ]
     },
     "execution_count": 23,
     "metadata": {},
     "output_type": "execute_result"
    }
   ],
   "source": [
    "raiz.filhos"
   ]
  }
 ],
 "metadata": {
  "kernelspec": {
   "display_name": "Python 3 (ipykernel)",
   "language": "python",
   "name": "python3"
  },
  "language_info": {
   "codemirror_mode": {
    "name": "ipython",
    "version": 3
   },
   "file_extension": ".py",
   "mimetype": "text/x-python",
   "name": "python",
   "nbconvert_exporter": "python",
   "pygments_lexer": "ipython3",
   "version": "3.10.12"
  }
 },
 "nbformat": 4,
 "nbformat_minor": 2
}
